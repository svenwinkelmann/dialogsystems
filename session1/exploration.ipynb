{
 "cells": [
  {
   "cell_type": "markdown",
   "metadata": {},
   "source": [
    "# Session 1: Exploration"
   ]
  },
  {
   "cell_type": "markdown",
   "metadata": {},
   "source": [
    "Ziele der heutigen Übung:\n",
    "- Einrichten eurer Entwicklungsumgebung\n",
    "- Kennenlernen des System Usability Scale \n",
    "- Implementierung des System Usability Scale als Python Funktion\n",
    "- Evaluieren eines Sprachdialogsystems eurer Wahl mit verschiedenen Anwendungsfällen"
   ]
  },
  {
   "cell_type": "markdown",
   "metadata": {},
   "source": [
    "## Einrichtung Entwicklungsumgebung"
   ]
  },
  {
   "cell_type": "markdown",
   "metadata": {},
   "source": [
    "Wir nutzen wie in KI1 Python und setzen direkt auf den dort erworbenen Kenntnissen auf. D.h. bei \"Altlasten\" oder nicht verstandenen Inhalten ist es ratsam möglichst schnell diese aufzuholen, um in KI2 erfolgreich mitarbeiten zu können. Als Entwicklungsumgebung wird Microsoft VSCode empfohlen, wer will kann aber auch mit anderen Tools arbeiten. Für VSCode findest du eine Anleitung zur Einrichtung und der Arbeit mit Jupyter Notebooks im Moodle Kurs. Du solltest eine Python Umgebung >=3.11 verwenden und nicht unbedingt die neueste, da manche Bibliotheken etwas Zeit zum aktualisieren benötigen und die neueste manchmal zu Problemen führt. Sofern alles richtig eingerichtet ist, sollte folgender Befehl funktionieren und die Python-Version ausgeben:"
   ]
  },
  {
   "cell_type": "code",
   "execution_count": null,
   "metadata": {},
   "outputs": [],
   "source": [
    "import sys\n",
    "print(f'Jippie, we work with: Python {sys.version}')"
   ]
  },
  {
   "cell_type": "markdown",
   "metadata": {},
   "source": [
    "### Virtuelle Umgebung"
   ]
  },
  {
   "cell_type": "markdown",
   "metadata": {},
   "source": [
    "Ein jedes Python Programm benötigt eine Laufzeitumgebung (z.B. die zuvor Installierte Python Version). In einer Umgebung können verschiedene Bibliotheken installiert werden, je nachdem was euer Programm benötigt. Nun kann es bei verschiedenen Python Programmen auf einem Rechner zu Problemen kommen, wenn sie dieselbe Umgebung nutzen - z.B. können zwei Bibliotheken in unterschiedlichen Versionen benötigt werden. Um dies zu verhindern wird stark empfohlen mit virtuellen Umgebungen zu arbeiten!\n",
    "\n",
    "Es wird empfohlen ```VIRTUAL ENVIRONMENTS``` mit VSCode zu nutzen, auf eigene Gefahr hin können aber auch andere Varianten genutzt werden. Bearbeite die folgenden Abschnitte in https://code.visualstudio.com/docs/python/environments, um ein ```venv``` einzurichten und zu aktivieren:\n",
    "- Types of Python environments\n",
    "- Using the Create Environment command\n",
    "\n",
    "Folgendes Kommando prüft, ob du ein virtuelles Environment verwendest:\n"
   ]
  },
  {
   "cell_type": "code",
   "execution_count": null,
   "metadata": {},
   "outputs": [],
   "source": [
    "print(sys.prefix)\n",
    "print(sys.base_prefix)\n",
    "print(f'Using virtual environment: {sys.prefix != sys.base_prefix}')"
   ]
  },
  {
   "cell_type": "markdown",
   "metadata": {},
   "source": [
    "## System Usability Score (SUS)"
   ]
  },
  {
   "cell_type": "markdown",
   "metadata": {},
   "source": [
    "*Anmerkung: auch die Inhalte externer Links, welche in den Übungen explizit zum Lesen erwähnt werden, sind relevant für die Klausur ;)*\n",
    "\n",
    "Der SUS ist ein gängiges Mittel, um sehr generisch die Gebrauchstauglichkeit eines Systems zu messen. Arbeite dich in die Methodik mit Hilfe folgender Seite ein: https://en.wikipedia.org/w/index.php?title=System_usability_scale&oldid=1309402880\n",
    "\n"
   ]
  },
  {
   "cell_type": "markdown",
   "metadata": {},
   "source": [
    "Implementiere eine Funktion, die den SUS berechnet. Als Parameter bekommt die Funktion eine Liste mit 10 Zahlen übergeben, jedes Listenelement kann den Wert 1-5 (1= strongly disagree, 5=strongly agree) annehmen, abhängig der Antworten des Fragebogens. "
   ]
  },
  {
   "cell_type": "code",
   "execution_count": null,
   "metadata": {},
   "outputs": [],
   "source": [
    "def calculate_sus(scores: list[int]) -> float:\n",
    "    print(\"TODO\")"
   ]
  },
  {
   "cell_type": "markdown",
   "metadata": {},
   "source": [
    "Ein kleiner Unit-Test, mit welchem du deine Implementierung testen kannst:"
   ]
  },
  {
   "cell_type": "code",
   "execution_count": null,
   "metadata": {},
   "outputs": [],
   "source": [
    "assert calculate_sus([1,2,3,4,2,1,3,4,5,1]) == 55"
   ]
  },
  {
   "cell_type": "markdown",
   "metadata": {},
   "source": [
    "Eine Nutzerin findet ein System maximal gebrauchstauglich, wie sind Ihre Antworten auf die 10 Fragen?"
   ]
  },
  {
   "cell_type": "code",
   "execution_count": null,
   "metadata": {},
   "outputs": [],
   "source": [
    "answers = [\n",
    "    -1,  # I think that I would like to use this system frequently.\n",
    "    -1,  # I found the system unnecessarily complex.\n",
    "    -1,  # I thought the system was easy to use.\n",
    "    -1,  # I think that I would need the support of a technical person to be able to use this system.\n",
    "    -1,  # I found the various functions in this system were well integrated.\n",
    "    -1,  # I thought there was too much inconsistency in this system.\n",
    "    -1,  # I would imagine that most people would learn to use this system very quickly.\n",
    "    -1,  # I found the system very cumbersome to use.\n",
    "    -1,  # I felt very confident using the system.\n",
    "    -1,  # I needed to learn a lot of things before I could get going with this system.\n",
    "]\n",
    "\n",
    "assert calculate_sus(answers) == 100"
   ]
  },
  {
   "cell_type": "markdown",
   "metadata": {},
   "source": [
    "## Evaluation eines Sprachdialogsystems"
   ]
  },
  {
   "cell_type": "markdown",
   "metadata": {},
   "source": [
    "Je nachdem welches Smartphone du nutzt oder in welchem Ökosystem du unterwegs bist, kannst du die folgenden Aufgaben mit Siri, Google Assistant oder Alexa durchführen. Nutze hierfür dein privates Smartphone. Versetze dich in folgende Situationen und versuche mit deinem präferierten sprachlichen Assistenten die Aufgabe zu erledigen. Im Anschluss bewertest du deine Erfahrungen indem du einen SUS berechnest. Natürlich möchten wir hierfür die oben geschriebene Funktion nutzen ;-). "
   ]
  },
  {
   "cell_type": "markdown",
   "metadata": {},
   "source": [
    "### 1. Wecker\n",
    "\n",
    "Die Vorlesung heute ist wieder super langweilig, Zeit für einen kleinen Mittagsschlaf. Stelle deinen Wecker auf das Ende der Vorlesung, um rechtzeitig aufzuwachen. Kannst du den Weckton per Sprache auswählen?"
   ]
  },
  {
   "cell_type": "code",
   "execution_count": null,
   "metadata": {},
   "outputs": [],
   "source": [
    "answers = [\n",
    "    -1,  # I think that I would like to use this system frequently.\n",
    "    -1,  # I found the system unnecessarily complex.\n",
    "    -1,  # I thought the system was easy to use.\n",
    "    -1,  # I think that I would need the support of a technical person to be able to use this system.\n",
    "    -1,  # I found the various functions in this system were well integrated.\n",
    "    -1,  # I thought there was too much inconsistency in this system.\n",
    "    -1,  # I would imagine that most people would learn to use this system very quickly.\n",
    "    -1,  # I found the system very cumbersome to use.\n",
    "    -1,  # I felt very confident using the system.\n",
    "    -1,  # I needed to learn a lot of things before I could get going with this system.\n",
    "]\n",
    "\n",
    "calculate_sus(answers)"
   ]
  },
  {
   "cell_type": "markdown",
   "metadata": {},
   "source": [
    "### 2. Telefon\n",
    "\n",
    "Du möchtest einen Kontakt aus deinem Telefonbuch anrufen. Wähle einen aus und gebe deinem persönlichen Sprachassistent die Anweisung. Was passiert, wenn zwei Kontakte denselben Namen haben? Was passiert, wenn ein Kontakt mehrere Telefonnummern hat?"
   ]
  },
  {
   "cell_type": "code",
   "execution_count": null,
   "metadata": {},
   "outputs": [],
   "source": [
    "answers = [\n",
    "    -1,  # I think that I would like to use this system frequently.\n",
    "    -1,  # I found the system unnecessarily complex.\n",
    "    -1,  # I thought the system was easy to use.\n",
    "    -1,  # I think that I would need the support of a technical person to be able to use this system.\n",
    "    -1,  # I found the various functions in this system were well integrated.\n",
    "    -1,  # I thought there was too much inconsistency in this system.\n",
    "    -1,  # I would imagine that most people would learn to use this system very quickly.\n",
    "    -1,  # I found the system very cumbersome to use.\n",
    "    -1,  # I felt very confident using the system.\n",
    "    -1,  # I needed to learn a lot of things before I could get going with this system.\n",
    "]\n",
    "\n",
    "calculate_sus(answers)"
   ]
  },
  {
   "cell_type": "markdown",
   "metadata": {},
   "source": [
    "### 3. Restaurant Suche\n",
    "\n",
    "Du verlässt mit zwei Freunden die Vorlesung und ihr möchtet etwas essen gehen. Paul mag italienisch, Frieda chinesisch und du mexikanisch. Das Restaurant sollte preiswert sein und gute Bewertungen haben. Ihr möchtet maximal 10 Minuten laufen. Nutze Siri, Google Assistant oder Alexa, um ein entsprechendes Restaurant zu finden."
   ]
  },
  {
   "cell_type": "code",
   "execution_count": null,
   "metadata": {},
   "outputs": [],
   "source": [
    "answers = [\n",
    "    -1,  # I think that I would like to use this system frequently.\n",
    "    -1,  # I found the system unnecessarily complex.\n",
    "    -1,  # I thought the system was easy to use.\n",
    "    -1,  # I think that I would need the support of a technical person to be able to use this system.\n",
    "    -1,  # I found the various functions in this system were well integrated.\n",
    "    -1,  # I thought there was too much inconsistency in this system.\n",
    "    -1,  # I would imagine that most people would learn to use this system very quickly.\n",
    "    -1,  # I found the system very cumbersome to use.\n",
    "    -1,  # I felt very confident using the system.\n",
    "    -1,  # I needed to learn a lot of things before I could get going with this system.\n",
    "]\n",
    "\n",
    "calculate_sus(answers)"
   ]
  },
  {
   "cell_type": "markdown",
   "metadata": {},
   "source": [
    "## Gerne in der Freizeit die sprachlichen Assistenten nutzen und Erfahrungen damit sammeln!"
   ]
  }
 ],
 "metadata": {
  "kernelspec": {
   "display_name": ".venv",
   "language": "python",
   "name": "python3"
  },
  "language_info": {
   "codemirror_mode": {
    "name": "ipython",
    "version": 3
   },
   "file_extension": ".py",
   "mimetype": "text/x-python",
   "name": "python",
   "nbconvert_exporter": "python",
   "pygments_lexer": "ipython3",
   "version": "3.11.11"
  }
 },
 "nbformat": 4,
 "nbformat_minor": 2
}
