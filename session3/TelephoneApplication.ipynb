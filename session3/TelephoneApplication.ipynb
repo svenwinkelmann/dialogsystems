{
 "cells": [
  {
   "cell_type": "markdown",
   "metadata": {},
   "source": [
    "## Telefonanwendung: ASR und NLU\n",
    "Ziele der heutigen Übung:\n",
    "- Erzeugung eines Datensatzes aus AudioFiles\n",
    "- Implementierung eines Systems zum Starten eines Telefonanrufs (ASR & NLU)\n"
   ]
  },
  {
   "cell_type": "code",
   "execution_count": 1,
   "metadata": {},
   "outputs": [],
   "source": [
    "import speech_recognition as sr\n",
    "recognizer = sr.Recognizer()"
   ]
  },
  {
   "cell_type": "markdown",
   "metadata": {
    "vscode": {
     "languageId": "shellscript"
    }
   },
   "source": [
    "Füge unsere ```def recognize_vosk(audio_data: any)``` Funktion aus der letzten Übung hier ein und gebe das Erkennerergebnis zurück. Gute Programmierpraxis ist alle notwendigen Objekte als Parameter zu übergeben und nicht auf globale Variablen des Jupyter Notebooks zuzugreifen. Dies ermöglicht ein einfaches Kopieren der Funktion in andere Jupyter Notebooks, ohne globale Abhängigkeiten einfügen zu müssen."
   ]
  },
  {
   "cell_type": "code",
   "execution_count": 2,
   "metadata": {},
   "outputs": [],
   "source": [
    "import json\n",
    "\n",
    "def recognize_vosk(audio_data: any, recognizer: sr.Recognizer, language = 'de') -> any:\n",
    "    #todo\n",
    "    return None"
   ]
  },
  {
   "cell_type": "markdown",
   "metadata": {},
   "source": [
    "## Datensatz\n",
    "\n",
    "Wie in der Vorlesung erwähnt ist jede unserer Äußerungen immer leicht verschieden. Selbst wenn wir uns noch so sehr anstrengen, wird Tonfall, Geschwindigkeit, Tonhöhe oder Umgebungsgeräusche jeweils minimal unterschiedlich sein und verhindert somit die Vergleichbarkeit von Erkennerergebnissen (Details kommen noch in der Vorlesung). Um eine Vergleichbarkeit hinzubekommen, nutzt man in der Spracherkennerentwicklung meist vorab aufgenommene Audiofiles, welche man den Spracherkennern jeweils übergibt."
   ]
  },
  {
   "cell_type": "markdown",
   "metadata": {},
   "source": [
    "Nutze ein Tool deiner Wahl, um Äußerungen im .wav Format aufzunehmen. [Audacity](https://www.audacityteam.org/) ist ein ganz nettes OpenSource Tool zur Erstellung und Bearbeitung von Audiofiles. Erstelle für folgende Äußerungen jeweils als eigene Files:\n",
    "1) Paul anrufen\n",
    "2) Ich möchte mit Eva telefonieren\n",
    "3) Anruf an Tante Frieda \n",
    "4) Telefonanruf mit Tim starten\n",
    "5) Kannst du Fridolin anrufen?\n",
    "6) Telefoniere mit Fritz"
   ]
  },
  {
   "cell_type": "markdown",
   "metadata": {},
   "source": [
    "Anstatt der Aufnahme des Audiosignals mit dem Mikrofon, wie in der letzten Übung, übergebe der ```recognize_vosk``` Funktion alle aufgenommen Audiofiles des Datensatzes nacheinander und speichere die Texte in eine entsprechende Datenstruktur."
   ]
  },
  {
   "cell_type": "code",
   "execution_count": null,
   "metadata": {},
   "outputs": [],
   "source": [
    "import os\n",
    "\n",
    "AUDIO_FILE_FOLDER = os.path.join('..', 'data', 'telephone_audio_files') \n",
    "labels = ['Paul anrufen', 'Ich möchte mit Eva telefonieren', 'Anruf an Tante Frieda', 'Telefonanruf mit Tim starten', 'Kannst du Fridolin arufen?', 'Telefoniere mit Fritz']\n",
    "audio_files = ['1_Paul.wav', '2_Eva.wav', '3_Frieda.wav', '4_Tim.wav', '5_Fridolin.wav', '6_Fritz.wav']\n",
    "results = []\n",
    "\n",
    "for file in audio_files:\n",
    "    #todo\n"
   ]
  },
  {
   "cell_type": "markdown",
   "metadata": {},
   "source": [
    "## NLU"
   ]
  },
  {
   "cell_type": "markdown",
   "metadata": {},
   "source": [
    "Wie in der Vorlesung gezeigt möchten wir die Stanford CoreNLP nutzen. Es gibt eine Python Implementierung: https://stanfordnlp.github.io/stanza/ . Installiere diese:\n"
   ]
  },
  {
   "cell_type": "code",
   "execution_count": null,
   "metadata": {
    "vscode": {
     "languageId": "shellscript"
    }
   },
   "outputs": [],
   "source": [
    "#todo"
   ]
  },
  {
   "cell_type": "markdown",
   "metadata": {},
   "source": [
    "Nutze die stanza Pipeline, um alle erkannten Nutzeräußerungen zu verarbeiten.\n",
    "\n",
    "_Tipp: die Prozessoren tokenize, pos, lemma, depparse und ner sind ziemlich hilfreich ;-)_"
   ]
  },
  {
   "cell_type": "code",
   "execution_count": null,
   "metadata": {},
   "outputs": [],
   "source": [
    "import stanza\n",
    "\n",
    "for result in results:\n",
    "    #todo"
   ]
  },
  {
   "cell_type": "markdown",
   "metadata": {},
   "source": [
    "Verstehe die Ergebnisse der verschiedenen processors:"
   ]
  },
  {
   "cell_type": "code",
   "execution_count": null,
   "metadata": {},
   "outputs": [],
   "source": [
    "print(\"todo\")"
   ]
  },
  {
   "cell_type": "markdown",
   "metadata": {},
   "source": [
    "Identifiziere den Intent jemanden anzurufen:"
   ]
  },
  {
   "cell_type": "code",
   "execution_count": null,
   "metadata": {},
   "outputs": [],
   "source": [
    "verbs = ['anrufen', 'rufe', 'telefonieren', 'anklingeln']\n",
    "nouns = ['anruf', 'telefonanruf', 'gespräch', 'telefongespräch']\n",
    "\n",
    "for result in results:\n",
    "    #todo"
   ]
  },
  {
   "cell_type": "markdown",
   "metadata": {},
   "source": [
    "Identifiziere den Kontakt der angerufen werden soll.\n",
    "\n",
    "_Hinweis: entities in dem NLU Ergebnis sind https://stanfordnlp.github.io/stanza/data_objects.html#span Objekte. Die Funktion ```to_dict()``` ist hilfreich, um damit wie ein normales Python Dict zu arbeiten._"
   ]
  },
  {
   "cell_type": "code",
   "execution_count": 128,
   "metadata": {},
   "outputs": [],
   "source": [
    "for result in results:\n",
    "    #todo"
   ]
  },
  {
   "cell_type": "markdown",
   "metadata": {},
   "source": [
    "### Ausgabe:\n",
    "\n",
    "Gebe das ASR Ergebnis und den NLU Dialogact für jede Äußerung aus"
   ]
  },
  {
   "cell_type": "code",
   "execution_count": null,
   "metadata": {},
   "outputs": [],
   "source": [
    "import json\n",
    "\n",
    "for i in range(len(labels)):\n",
    "    print(f\"Äußerung: {labels[i]}\")\n",
    "    print(\"ASR: \" + todo)\n",
    "    print(\"DialogAct:\" + todo)\n",
    "    print()"
   ]
  }
 ],
 "metadata": {
  "kernelspec": {
   "display_name": ".venv",
   "language": "python",
   "name": "python3"
  },
  "language_info": {
   "codemirror_mode": {
    "name": "ipython",
    "version": 3
   },
   "file_extension": ".py",
   "mimetype": "text/x-python",
   "name": "python",
   "nbconvert_exporter": "python",
   "pygments_lexer": "ipython3",
   "version": "3.11.6"
  }
 },
 "nbformat": 4,
 "nbformat_minor": 2
}
