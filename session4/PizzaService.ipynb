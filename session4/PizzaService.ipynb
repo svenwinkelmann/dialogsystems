{
 "cells": [
  {
   "cell_type": "markdown",
   "metadata": {},
   "source": [
    "# Pizza Service \n",
    "\n",
    "Ziele der heutigen Übung:\n",
    "- Definition unseres Nutzers (Persona)\n",
    "- Definition der Persona des System (wie soll es sich verhalten)\n",
    "- Regelbasiete Implementierung eines Sprachdialogsystems mit AIML für einen Pizzaservice"
   ]
  },
  {
   "cell_type": "markdown",
   "metadata": {},
   "source": [
    "## Persona definieren mit Hilfe von ChatGPT oder Microsoft CoPilot\n",
    "\n",
    "Nutze ein LLM deiner Wahl, um damit eine Persona zu definieren, die mit dem Sprachdialogsystem interagiert.\n",
    "\n",
    "Passe hierfür gerne den Prompt aus der Vorlesung entsprechend an: ```Du bist UX Designer. Erstelle eine Persona, die Mercedes S-Klasse fährt, technisch interessiert ist und gerne das Sprachdialogsystem benutzt```. Sei gerne kreativ und erstelle das Dialogsystem für nicht ganz so alltägliche Charaktere ;-)."
   ]
  },
  {
   "cell_type": "markdown",
   "metadata": {},
   "source": [
    "## Ablaufdiagram für den Pizzaservice Dialog\n",
    "\n",
    "Nutze ein Tool deiner Wahl (e.g. Powerpoint, Miro, Visio, ..) um ein einfaches Ablaufdiagram der Happy Paths für unseren Pizzaservice zu erstellen. Das Sprachdialogysystem soll folgende Use Cases erfüllen:\n",
    "\n",
    "1) Als _Name_Persona_ möchte ich die Öffnungszeiten des Pizzaservices heute erfahren, um noch rechtzeitig nach dem Arbeiten eine Pizza zu bekommen.\n",
    "2) Als _Name_Persona_ möchte ich wissen wann der Pizzaservice nächstes Wochenende geöffnet hat, um zu den Öffnungszeiten eine Pizza bestellen zu können.\n",
    "3) Als _Name_Persona_ möchte ich einen Tisch an einem Wochentag zu einer bestimmten Uhrzeit reservieren, um nicht im Stehen essen zu müssen.\n",
    "4) Als _Name_Persona_ möchte ich einen Tisch an einem Datum zu einer bestimmten Uhrzeit reservieren, um nicht im Stehen essen zu müssen.\n",
    "5) Als _Name_Persona_ möchte ich eine Pizza auf eine bestimmte Uhrzeit bestellen, so dass ich diese direkt abholen kann.\n",
    "6) Als _Name_Persona_ möchte ich auf meine bestellte Pizza mit Toppings verfeineren, um sie auf meinen Geschmack anzupassen.\n",
    "\n",
    "Unser Pizzaservice hat folgende Pizzen im Angebot: Funghi, Hawaii, Diabolo, Salami, Schinken.\n",
    "\n",
    "Als Toppings sind verfügbar: Chili, extra Käse, Knoblauch "
   ]
  },
  {
   "cell_type": "markdown",
   "metadata": {},
   "source": [
    "## Persona des Systems definieren\n",
    "\n",
    "Nutze ein LLM deiner Wahl, um damit eine System-Persona zu definieren.\n",
    "\n",
    "Passe hierfür gerne den Prompt aus der Vorlesung entsprechend an: ```Erstelle eine Persona eines Sprachdialogsystems. Das System soll den Benutzer duzen und umgänglich sein.```. Sei gerne kreativ und erstelle ein etwas anderes Dialogsystem :)."
   ]
  },
  {
   "cell_type": "markdown",
   "metadata": {},
   "source": [
    "## Implementieren des Dialogsystems mit AIML\n",
    "\n",
    "Nun wollen wir das definierte Sprachdialogsystem für die erstelle Persona in AIML implementieren. Kopiere dafür folgende Files in den aktuellen Ordner:\n",
    "- ```main_chat.aiml```\n",
    "- ```std-startup.xml```\n",
    "\n",
    "einige nützliche Seiten für AIML:\n",
    "- https://ai.fandom.com/wiki/AIML\n",
    "- https://pemagrg.medium.com/aiml-tutorial-a8802830f2bf"
   ]
  },
  {
   "cell_type": "code",
   "execution_count": 3,
   "metadata": {
    "vscode": {
     "languageId": "shellscript"
    }
   },
   "outputs": [
    {
     "name": "stdout",
     "output_type": "stream",
     "text": [
      "Requirement already satisfied: python-aiml in /Users/winkelmannsv/git/dialogsystems/.venv_playground/lib/python3.11/site-packages (0.9.3)\n",
      "Requirement already satisfied: setuptools in /Users/winkelmannsv/git/dialogsystems/.venv_playground/lib/python3.11/site-packages (from python-aiml) (68.2.2)\n",
      "\n",
      "\u001b[1m[\u001b[0m\u001b[34;49mnotice\u001b[0m\u001b[1;39;49m]\u001b[0m\u001b[39;49m A new release of pip is available: \u001b[0m\u001b[31;49m23.3.1\u001b[0m\u001b[39;49m -> \u001b[0m\u001b[32;49m24.3.1\u001b[0m\n",
      "\u001b[1m[\u001b[0m\u001b[34;49mnotice\u001b[0m\u001b[1;39;49m]\u001b[0m\u001b[39;49m To update, run: \u001b[0m\u001b[32;49mpip install --upgrade pip\u001b[0m\n",
      "Note: you may need to restart the kernel to use updated packages.\n"
     ]
    }
   ],
   "source": [
    "pip install python-aiml"
   ]
  },
  {
   "cell_type": "markdown",
   "metadata": {},
   "source": [
    "Passe die xml und aiml files entsprechend an, um unsere Pizzaservice zu implementieren. Eventuell macht es Sinn die Use Cases in 3 topics zu unterteilen (Öffnungszeiten, Tisch reservieren, Pizza bestellen)\n",
    "\n",
    "Um den Dialog zu starten führe folgende Zelle aus:"
   ]
  },
  {
   "cell_type": "code",
   "execution_count": null,
   "metadata": {},
   "outputs": [],
   "source": [
    "import aiml\n",
    "\n",
    "kernel = aiml.Kernel()\n",
    "kernel.learn(\"std-startup.xml\")\n",
    "kernel.respond(\"load main\")\n",
    "\n",
    "while True:\n",
    "    input_text = input(\">Human: \")\n",
    "    if input_text == 'c':\n",
    "        break\n",
    "    response = kernel.respond(input_text)\n",
    "    print(\">Bot: \"+response)"
   ]
  },
  {
   "cell_type": "markdown",
   "metadata": {},
   "source": [
    "Ändere den Code dementsprechend, dass die Eingabe per Sprache erfolgen kann. Nutze hierfür entweder die Google Cloud oder Vosk."
   ]
  },
  {
   "cell_type": "code",
   "execution_count": 4,
   "metadata": {},
   "outputs": [],
   "source": [
    "#todo"
   ]
  },
  {
   "cell_type": "markdown",
   "metadata": {},
   "source": [
    "Wenn du nun die ```response``` mittels TTS ausgibst hast du ein richtiges Sprachdialogsystem :). Die Qualität von pyttsx3 ist sehr schlecht, falls du Zeit hast suche gerne im Internet nach natürlicheren Libraries bzw. Stimmen. Oder nutze eine Web-API. "
   ]
  },
  {
   "cell_type": "code",
   "execution_count": null,
   "metadata": {
    "vscode": {
     "languageId": "shellscript"
    }
   },
   "outputs": [],
   "source": [
    "pip install pyttsx3"
   ]
  },
  {
   "cell_type": "code",
   "execution_count": 3,
   "metadata": {},
   "outputs": [
    {
     "ename": "",
     "evalue": "",
     "output_type": "error",
     "traceback": [
      "\u001b[1;31mThe Kernel crashed while executing code in the current cell or a previous cell. \n",
      "\u001b[1;31mPlease review the code in the cell(s) to identify a possible cause of the failure. \n",
      "\u001b[1;31mClick <a href='https://aka.ms/vscodeJupyterKernelCrash'>here</a> for more info. \n",
      "\u001b[1;31mView Jupyter <a href='command:jupyter.viewOutput'>log</a> for further details."
     ]
    }
   ],
   "source": [
    "import pyttsx3\n",
    "\n",
    "engine = pyttsx3.init()\n",
    "engine.say(\"Hallo Welt\")\n",
    "engine.runAndWait()"
   ]
  },
  {
   "cell_type": "markdown",
   "metadata": {},
   "source": []
  }
 ],
 "metadata": {
  "kernelspec": {
   "display_name": ".venv_playground",
   "language": "python",
   "name": "python3"
  },
  "language_info": {
   "codemirror_mode": {
    "name": "ipython",
    "version": 3
   },
   "file_extension": ".py",
   "mimetype": "text/x-python",
   "name": "python",
   "nbconvert_exporter": "python",
   "pygments_lexer": "ipython3",
   "version": "3.11.6"
  }
 },
 "nbformat": 4,
 "nbformat_minor": 2
}
