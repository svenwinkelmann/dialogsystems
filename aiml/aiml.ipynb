{
 "cells": [
  {
   "cell_type": "code",
   "execution_count": null,
   "metadata": {
    "vscode": {
     "languageId": "shellscript"
    }
   },
   "outputs": [],
   "source": [
    "pip install python-aiml"
   ]
  },
  {
   "cell_type": "code",
   "execution_count": 43,
   "metadata": {},
   "outputs": [
    {
     "name": "stdout",
     "output_type": "stream",
     "text": [
      "Loading std-startup.xml...done (0.00 seconds)\n",
      "Loading main_chat.aiml...done (0.00 seconds)\n",
      "Loading weather_forecast.aiml...done (0.00 seconds)\n",
      "Loading weather_temperature.aiml...done (0.00 seconds)\n",
      ">Bot: Es hat 22 °C in stg\n",
      ">Bot: Aktuell hat es in stg 22 °C\n"
     ]
    }
   ],
   "source": [
    "import aiml\n",
    "\n",
    "kernel = aiml.Kernel()\n",
    "kernel.learn('std-startup.xml')\n",
    "kernel.respond('load main')\n",
    "\n",
    "# user preferences\n",
    "kernel.setPredicate('temp_unit', '°C')\n",
    "\n",
    "while True:\n",
    "    input_text = input(\">Human: \")\n",
    "    if input_text == 'c':\n",
    "        break\n",
    "    response = kernel.respond(input_text)\n",
    "    temperature = 22  # usually we would call a weather API here..\n",
    "    response = response.replace('_temp_', str(temperature))\n",
    "    print(f\">Bot: {response}\")"
   ]
  },
  {
   "cell_type": "code",
   "execution_count": 32,
   "metadata": {
    "vscode": {
     "languageId": "shellscript"
    }
   },
   "outputs": [
    {
     "data": {
      "text/plain": [
       "{'_global': {'_inputHistory': ['load main',\n",
       "   'wie wird das wetter in stuttgart'],\n",
       "  '_outputHistory': ['',\n",
       "   'Die nächsten Tage wird es in stuttgart sonnig bei 17 °C'],\n",
       "  '_inputStack': [],\n",
       "  'topic': 'FORECAST'}}"
      ]
     },
     "execution_count": 32,
     "metadata": {},
     "output_type": "execute_result"
    }
   ],
   "source": [
    "kernel.getSessionData()"
   ]
  }
 ],
 "metadata": {
  "kernelspec": {
   "display_name": ".venv_playground",
   "language": "python",
   "name": "python3"
  },
  "language_info": {
   "codemirror_mode": {
    "name": "ipython",
    "version": 3
   },
   "file_extension": ".py",
   "mimetype": "text/x-python",
   "name": "python",
   "nbconvert_exporter": "python",
   "pygments_lexer": "ipython3",
   "version": "3.11.6"
  }
 },
 "nbformat": 4,
 "nbformat_minor": 2
}
