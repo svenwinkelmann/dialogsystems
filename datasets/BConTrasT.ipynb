{
 "cells": [
  {
   "cell_type": "markdown",
   "metadata": {},
   "source": [
    "## Pizza Service (Taskmaster-1, übersetzt für EMNLP 2020)\n",
    "\n",
    "Dataset from M Amin Farajian, António V Lopes, André FT Martins, Sameen Maruf, Gholamreza Haffari (2020). Findings of the wmt 2020 shared task on chat translation (https://aclanthology.org/2020.wmt-1.3/)"
   ]
  },
  {
   "cell_type": "code",
   "execution_count": null,
   "metadata": {
    "vscode": {
     "languageId": "shellscript"
    }
   },
   "outputs": [],
   "source": [
    "!git clone https://github.com/Unbabel/BConTrasT ../data/BConTrasT"
   ]
  },
  {
   "cell_type": "code",
   "execution_count": null,
   "metadata": {},
   "outputs": [],
   "source": [
    "import json\n",
    "import os\n",
    "import pandas as pd\n",
    "\n",
    "DATASET_FOLDER = f'..{os.path.sep}data{os.path.sep}BConTrasT'\n",
    "DATASET_FILES = ['train.json', 'dev.json', 'test1_corpus-with_gold_references.json']\n",
    "\n",
    "dict_dataset = {}\n",
    "for ds_file in DATASET_FILES:\n",
    "    with open(os.path.join(DATASET_FOLDER, ds_file), encoding=\"utf-8\") as file:\n",
    "        dict_dataset.update(json.load(file))\n",
    "\n",
    "dict_dataset"
   ]
  },
  {
   "cell_type": "code",
   "execution_count": null,
   "metadata": {},
   "outputs": [],
   "source": [
    "print(f'Number of dialogs: {len(dict_dataset)}')"
   ]
  },
  {
   "cell_type": "code",
   "execution_count": null,
   "metadata": {},
   "outputs": [],
   "source": [
    "utterance_list = []\n",
    "for dialogID, dialog_steps in dict_dataset.items():\n",
    "    for step in dialog_steps:\n",
    "        dict1 = {\n",
    "            'dialogID': dialogID, \n",
    "            'utteranceID': step['utteranceID'],\n",
    "            'speaker': step['speaker'],\n",
    "            'dt': step['source'] if step['speaker'] == 'customer' else step['target'],\n",
    "            'en': step['target'] if step['speaker'] == 'customer' else step['source']\n",
    "        }\n",
    "        utterance_list.append(dict1)\n",
    "\n",
    "# to flatten the data we create a list of dicts for each row and add this list en-bloc to the pandas dataframe. Using the append or concat function of pandas might work but is very inefficient as the data is copied for each call. \n",
    "df = pd.DataFrame(utterance_list)\n",
    "df.head(5)"
   ]
  },
  {
   "cell_type": "code",
   "execution_count": 4,
   "metadata": {},
   "outputs": [],
   "source": [
    "# adding a column if the dialog step contains the word pizza or Pizza\n",
    "df['pizza_domain'] = df['dt'].apply(lambda x: True if 'pizza' in x.lower() else False)"
   ]
  },
  {
   "cell_type": "markdown",
   "metadata": {},
   "source": [
    "Einige hilfreiche Kommandos, um mit dem Dataframe umzugehen:"
   ]
  },
  {
   "cell_type": "code",
   "execution_count": null,
   "metadata": {},
   "outputs": [],
   "source": [
    "df[df['pizza_domain']]"
   ]
  },
  {
   "cell_type": "code",
   "execution_count": null,
   "metadata": {},
   "outputs": [],
   "source": [
    "dialogs_pizza_domain = list(df[df['pizza_domain']]['dialogID'].drop_duplicates())\n",
    "dialogs_pizza_domain"
   ]
  },
  {
   "cell_type": "code",
   "execution_count": null,
   "metadata": {},
   "outputs": [],
   "source": [
    "df[df['dialogID'] == 'dlg-ed5440cf-4f96-4f53-8290-0a462803c2b8']"
   ]
  },
  {
   "cell_type": "code",
   "execution_count": null,
   "metadata": {},
   "outputs": [],
   "source": []
  }
 ],
 "metadata": {
  "kernelspec": {
   "display_name": ".venv_playground",
   "language": "python",
   "name": "python3"
  },
  "language_info": {
   "codemirror_mode": {
    "name": "ipython",
    "version": 3
   },
   "file_extension": ".py",
   "mimetype": "text/x-python",
   "name": "python",
   "nbconvert_exporter": "python",
   "pygments_lexer": "ipython3",
   "version": "3.11.6"
  }
 },
 "nbformat": 4,
 "nbformat_minor": 2
}
